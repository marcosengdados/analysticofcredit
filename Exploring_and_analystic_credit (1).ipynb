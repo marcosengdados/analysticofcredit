{
  "cells": [
    {
      "cell_type": "markdown",
      "source": [
        "# **Exploração e análise dos dados de crédito usando SQL**\n",
        "\n",
        "*Esse notebook faz parte do 3º projeto do curso análise de dados da EBAC módulo SQL.*\n",
        "\n",
        "# **Tópicos**\n",
        "\n",
        "<ol type=\"1\">\n",
        "  <li>Introdução;</li>\n",
        "  <li>Exploração dos dados;</li>\n",
        "  <li>Análise das informações;</li>\n",
        "  <li>Considerações Finais.</li>\n",
        "</ol>"
      ],
      "metadata": {
        "id": "kTLDjdb98CEe"
      },
      "id": "kTLDjdb98CEe"
    },
    {
      "cell_type": "markdown",
      "source": [
        "#**1.1 Motivação**\n",
        "\n",
        "**O objetivo é:**"
      ],
      "metadata": {
        "id": "iW8vTyiP-76w"
      },
      "id": "iW8vTyiP-76w"
    },
    {
      "cell_type": "markdown",
      "source": [
        "## **Os dados:**\n",
        "\n",
        "Os dados representam informações de clientes de um banco e contam com as seguintes colunas:\n",
        "\n",
        "* idade = idade do cliente\n",
        "* sexo = sexo do cliente (F ou M)\n",
        "* dependentes = número de dependentes do cliente\n",
        "* escolaridade = nível de escolaridade do clientes\n",
        "* salario_anual = faixa salarial do cliente\n",
        "* tipo_cartao = tipo de cartao do cliente\n",
        "* qtd_produtos = quantidade de produtos comprados nos últimos 12 meses\n",
        "* iteracoes_12m = quantidade de iterações/transacoes nos ultimos 12 meses\n",
        "* meses_inativo_12m = quantidade de meses que o cliente ficou inativo\n",
        "* limite_credito = limite de credito do cliente\n",
        "* valor_transacoes_12m = valor das transações dos ultimos 12 meses\n",
        "* qtd_transacoes_12m  = quantidade de transacoes dos ultimos 12 meses\n",
        "\n",
        "A tabela foi criada no **AWS Athena** junto com o **S3 Bucket**"
      ],
      "metadata": {
        "id": "z1QIki5V9Hm-"
      },
      "id": "z1QIki5V9Hm-"
    },
    {
      "cell_type": "markdown",
      "source": [
        "com uma versão dos dados disponibilizados em: https://github.com/andre-marcos-perez/ebac-course-utils/tree/main/dataset"
      ],
      "metadata": {
        "id": "lZHUbE7689Kz"
      },
      "id": "lZHUbE7689Kz"
    },
    {
      "cell_type": "markdown",
      "source": [
        "## **2. Exploração de dados:**\n",
        "\n",
        "A primeira etapa da análise consiste em compreender a natureza dos dados. Esse processo, conhecido como exploração de dados, nos permite identificar padrões, tendências e possíveis anomalias, oferecendo uma base sólida para as próximas fases da análise:\n",
        "\n",
        "**Qual a quantidade de informações temos na nossa base de dados?**\n",
        "\n",
        "Query: SELECT count(*) FROM credito\n",
        "> Reposta: 2564 linhas\n",
        "\n",
        "**Insight.:** A estatística descritiva é essencial para a análise de dados, pois permite resumir e compreender grandes volumes de informações. Medidas como média, mediana e moda ajudam a identificar tendências centrais nos dados. Além disso, o desvio padrão, variância e amplitude são usados para avaliar a dispersão dos dados em torno dessas tendências. Esses conceitos são fundamentais para transformar dados complexos em informações acessíveis e acionáveis, facilitando a tomada de decisões baseadas em evidências."
      ],
      "metadata": {
        "id": "dixHDdfD_YZY"
      },
      "id": "dixHDdfD_YZY"
    },
    {
      "cell_type": "markdown",
      "source": [
        "**Como são os dados**\n",
        "\n",
        "Query: SELECT * FROM credito LIMIT 10;\n",
        "![Dez primeiras linhas do dataset](https://github.com/marianeneiva/sqlEBAC/blob/main/limit10.png?raw=true)\n",
        "\n",
        "> É possível observar que a tabela contém algumas informações nulas (valores NA). Vamos examinar mais de perto os valores em cada coluna para entender melhor essas lacunas e como elas podem impactar nossa análise."
      ],
      "metadata": {
        "id": "jrcGSABa_rzr"
      },
      "id": "jrcGSABa_rzr"
    },
    {
      "cell_type": "markdown",
      "source": [
        "**Quais os tipos de cada dado**\n",
        "\n",
        "**Query:** DESCRIBE credito\n",
        "\n",
        "![Descrição dos tipos de dados](https://github.com/marianeneiva/sqlEBAC/blob/main/describe.png?raw=true)\n",
        "\n",
        "Agora que já identificamos os tipos de dados, vamos focar nas variáveis não numéricas para examiná-las mais de perto e entender seu impacto na análise."
      ],
      "metadata": {
        "id": "YU_nGTBH_vKJ"
      },
      "id": "YU_nGTBH_vKJ"
    },
    {
      "cell_type": "markdown",
      "source": [
        "**Quais são os tipos de escolaridade disponíveis no dataset?**\n",
        "\n",
        "**Query:** SELECT DISTINCT escolaridade FROM credito\n",
        "\n",
        "![Tipos de escolaridade](https://github.com/marianeneiva/sqlEBAC/blob/main/escolaridade.png?raw=true)\n",
        "\n",
        "> Os dados incluem diversos níveis de escolaridade, e também identificamos a presença de valores nulos (NA) no dataset. Trataremos dessas inconsistências posteriormente!"
      ],
      "metadata": {
        "id": "FRwbmo9JABdg"
      },
      "id": "FRwbmo9JABdg"
    },
    {
      "cell_type": "markdown",
      "source": [
        "**Quais são os tipos de estado_civil disponíveis no dataset?**\n",
        "\n",
        "**Query:** SELECT DISTINCT estado_civil  FROM credito\n",
        "\n",
        "![Tipos de estado civil](https://github.com/marianeneiva/sqlEBAC/blob/main/escolaridade.png?raw=true)\n",
        "\n",
        "> Observamos novamente a presença de valores nulos, desta vez nos dados referentes ao estado civil. É importante lidar com essas ausências para garantir a precisão e a integridade da análise futura."
      ],
      "metadata": {
        "id": "POrJcFSeAH39"
      },
      "id": "POrJcFSeAH39"
    },
    {
      "cell_type": "markdown",
      "source": [
        "**Quais são os tipos de cartão disponíveis no dataset?**\n",
        "\n",
        "**Query:** SELECT DISTINCT tipo_cartao  FROM credito\n",
        "\n",
        "![Tipos de cartão](https://github.com/marianeneiva/sqlEBAC/blob/main/cartao.png?raw=true)\n",
        "\n",
        "> Neste caso, verificamos que não há valores nulos nos dados, eliminando a necessidade de tratamento adicional para esse aspecto específico."
      ],
      "metadata": {
        "id": "qKeSH0kDAVB3"
      },
      "id": "qKeSH0kDAVB3"
    },
    {
      "cell_type": "markdown",
      "id": "97ba6770",
      "metadata": {
        "papermill": {
          "duration": 0.004304,
          "end_time": "2021-07-20T20:16:13.383287",
          "exception": false,
          "start_time": "2021-07-20T20:16:13.378983",
          "status": "completed"
        },
        "tags": [],
        "id": "97ba6770"
      },
      "source": [
        "**Quais são os tipos de salario_anual disponíveis no dataset?**\n",
        "\n",
        "**Query:** SELECT DISTINCT salario_anual  FROM credito\n",
        "\n",
        "![Tipos de salario anual](https://github.com/marianeneiva/sqlEBAC/blob/main/salario_anual.png?raw=true)\n",
        "\n",
        "> Os salários neste dataset não são apresentados como valores exatos, mas sim como faixas salariais para cada cliente. Além disso, existem alguns valores nulos que precisarão ser tratados na análise."
      ]
    },
    {
      "cell_type": "markdown",
      "source": [
        "## **3. Análise das informações**\n",
        "\n",
        "- Após explorarmos os dados e compreendermos as informações disponíveis em nosso banco de dados, podemos avançar para a análise, buscando entender melhor as tendências e padrões presentes nos dados.\n",
        "\n",
        ">Vamos fazer perguntas:"
      ],
      "metadata": {
        "id": "griz9t60AgZw"
      },
      "id": "griz9t60AgZw"
    },
    {
      "cell_type": "markdown",
      "source": [
        "**Nesse banco de dados, quantos clientes temos de cada faixa salarial?**\n",
        "\n",
        "**Query:** select count(*), salario_anual from credito group by salario_anual\n",
        "\n",
        "![Quantidade para cada faixa salarial](https://github.com/marianeneiva/sqlEBAC/blob/main/faixa_salarial.png?raw=true)\n",
        "\n",
        "> A maior parte dos clientes nesta base de dados tem uma renda inferior a 40K, e há 235 clientes cujas faixas salariais estão ausentes ou não foram informadas.\n",
        "\n",
        "> Focar nesse segmento de renda mais baixa pode ser uma estratégia interessante para a empresa, considerando o potencial de mercado e a oportunidade de atender a essa faixa específica."
      ],
      "metadata": {
        "id": "KIGCdrw8Aute"
      },
      "id": "KIGCdrw8Aute"
    },
    {
      "cell_type": "markdown",
      "source": [
        "**Nesse banco de dados, quantos clientes são homens e quantos são mulheres?**\n",
        "\n",
        "**Query:** select count(*), sexo from credito group by sexo\n",
        "\n",
        "\n",
        "![Quantidade para cada sexo](https://github.com/marianeneiva/sqlEBAC/blob/main/faixa_sexo.png?raw=true)\n",
        "\n",
        "![Quantidade para cada sexo - gráfico](https://github.com/marianeneiva/sqlEBAC/blob/main/qtde_por_sexo.png?raw=true)\n",
        "\n",
        "> A maioria dos clientes deste banco é do sexo masculino. Para visualizar melhor a proporção entre masculino e feminino, podemos gerar um gráfico de pizza a partir do CSV extraído dos dados. Isso facilitará a compreensão da distribuição de gênero entre os clientes."
      ],
      "metadata": {
        "id": "wBNKT19KA4sj"
      },
      "id": "wBNKT19KA4sj"
    },
    {
      "cell_type": "markdown",
      "id": "001394fe",
      "metadata": {
        "papermill": {
          "duration": 0.003098,
          "end_time": "2021-07-20T20:16:13.390195",
          "exception": false,
          "start_time": "2021-07-20T20:16:13.387097",
          "status": "completed"
        },
        "tags": [],
        "id": "001394fe"
      },
      "source": [
        "**Queremos focar o nosso marketing de maneira adequada para nossos clientes, qual será a idade deles?**\n",
        "\n",
        "**Query:** select avg(idade) as media_idade, min(idade) as min_idade, max(idade) as max_idade, sexo from credito group by sexo\n",
        "![Média de idades por sexo](https://github.com/marianeneiva/sqlEBAC/blob/main/idade_sexopng.png?raw=true)\n",
        "\n",
        "> Por meio dessa análise não foi possível extrair nenhuma informação relevante.  A menor idade dos dois sexos é a mesma e a média é muito similar. A unica  diferença é a idade máxima mas fato quase irrelevante por a diferença não é tão gritante."
      ]
    },
    {
      "cell_type": "markdown",
      "source": [
        "\n",
        "**Qual a maior e menor transação dos clientes?**\n",
        "\n",
        "**Query:** select min(valor_transacoes_12m) as transacao_minima, max(valor_transacoes_12m) as transacao_minima from credito\n",
        "![Valor transacoes](https://github.com/marianeneiva/sqlEBAC/blob/main/transacoes.png?raw=true)\n",
        "\n",
        "> Nesse banco de dados temos soma de transações em 12 meses variam de 510.16 a 5776.58"
      ],
      "metadata": {
        "id": "iYRYrs4fBA5f"
      },
      "id": "iYRYrs4fBA5f"
    },
    {
      "cell_type": "markdown",
      "source": [
        "**Quais as características dos clientes que possuem os maiores creditos?**\n",
        "\n",
        "**Query:**\n",
        "select max(limite_credito) as limite_credito, escolaridade, tipo_cartao, sexo\n",
        "from credito\n",
        "where escolaridade != 'na' and tipo_cartao != 'na'\n",
        "group by  escolaridade, tipo_cartao, sexo\n",
        "order by limite_credito desc\n",
        "limit 10\n",
        "\n",
        "![Valor limite](https://github.com/marianeneiva/sqlEBAC/blob/main/limite_desc.png?raw=true)\n",
        "\n",
        "> Não parece haver uma relação significativa entre a escolaridade e o limite oferecido. Curiosamente, o limite mais alto é concedido a um homem sem educação formal. Além disso, o tipo de cartão também não parece estar relacionado com a escolaridade ou com o limite. Entre os maiores limites, encontramos clientes com cartões das categorias gold, silver, platinum e blue."
      ],
      "metadata": {
        "id": "H9aLuGiUBDhK"
      },
      "id": "H9aLuGiUBDhK"
    },
    {
      "cell_type": "markdown",
      "source": [
        "**Quais as características dos clientes que possuem os menores creditos?**\n",
        "\n",
        "**Query:**\n",
        "select max(limite_credito) as limite_credito, escolaridade, tipo_cartao, sexo\n",
        "from credito\n",
        "where escolaridade != 'na' and tipo_cartao != 'na'\n",
        "group by  escolaridade, tipo_cartao, sexo\n",
        "order by limite_credito asc\n",
        "\n",
        "\n",
        "![Valor limite](https://github.com/marianeneiva/sqlEBAC/blob/main/limite_asc.png?raw=true)\n",
        "\n",
        "> Desta vez, observamos que não há clientes com cartão platinum entre os menores limites. Além disso, notamos que a maioria dos menores limites é atribuída a mulheres, enquanto os maiores limites são predominantemente concedidos a homens."
      ],
      "metadata": {
        "id": "_929JTtTBG_Z"
      },
      "id": "_929JTtTBG_Z"
    },
    {
      "cell_type": "markdown",
      "source": [
        "**Será que as mulheres gastam mais?**\n",
        "\n",
        "**Query:**\n",
        "select max(valor_transacoes_12m) as maior_valor_gasto, avg(valor_transacoes_12m) as  media_valor_gasto, min(valor_transacoes_12m) as min_valor_gasto, sexo\n",
        "from credito\n",
        "group by sexo\n",
        "\n",
        "\n",
        "![Valor transacoes/sexo](https://github.com/marianeneiva/sqlEBAC/blob/main/quemgastamais.png?raw=true)\n",
        "\n",
        "> Apesar da diferença nos limites, os gastos de homens e mulheres são similares!"
      ],
      "metadata": {
        "id": "LOaPmPG-BJfC"
      },
      "id": "LOaPmPG-BJfC"
    },
    {
      "cell_type": "markdown",
      "source": [
        "**O salário impacta no limite?**\n",
        "\n",
        "**Query:** select avg(qtd_produtos) as qts_produtos, avg(valor_transacoes_12m) as media_valor_transacoes, avg(limite_credito) as media_limite,  sexo,   salario_anual from credito\n",
        "where salario_anual != 'na'\n",
        "group by sexo, salario_anual\n",
        "order by avg(valor_transacoes_12m) desc\n",
        "\n",
        "![Valor salario_anualLimite](https://github.com/marianeneiva/sqlEBAC/blob/main/salarioAnualMediaLimite.png?raw=true)\n",
        "\n",
        ">Sim, é evidente que as pessoas com faixas salariais mais baixas tendem a ter limites de crédito menores. O gráfico confirma essa relação, mostrando que há uma correlação direta entre a faixa salarial e o limite de crédito concedido."
      ],
      "metadata": {
        "id": "z3EbhqKmBNhb"
      },
      "id": "z3EbhqKmBNhb"
    },
    {
      "cell_type": "markdown",
      "source": [
        "**Quais são os tipos de cartão mais utilizados pelos clientes que realizam as maiores transações, e o que isso revela sobre o comportamento de compra desses clientes?**\n",
        "\n",
        "**Query:** SELECT tipo_cartao, AVG(valor_transacoes_12m) AS avg_transaction_value\n",
        "FROM credito\n",
        "GROUP BY tipo_cartao\n",
        "ORDER BY avg_transaction_value DESC\n",
        "LIMIT 5;\n",
        "\n",
        "![Valor tipo_cartao](https://github.com/marcosengdados/analysticofcredit/blob/main/f1.png?raw=true)\n",
        "![Valor tipo_cartao](https://github.com/marcosengdados/analysticofcredit/blob/main/grafico.png?raw=true)\n",
        ">A diferença nos valores médios de transação entre os cartões pode influenciar a estrutura de tarifas, recompensas, e marketing direcionado. Por exemplo, o banco pode explorar oportunidades de cross-selling para usuários de Silver e Blue que poderiam se beneficiar de um upgrade para Gold.\n",
        "\n",
        ">Este perfil de transações sugere que a segmentação de clientes com base no tipo de cartão pode ser uma estratégia eficaz. Focar em clientes Gold para campanhas de alto valor pode gerar maiores retornos, enquanto explorar os motivos para o desempenho do Platinum pode revelar oportunidades para rebranding ou reposicionamento."
      ],
      "metadata": {
        "id": "Zqjmex51jWIk"
      },
      "id": "Zqjmex51jWIk"
    },
    {
      "cell_type": "markdown",
      "source": [
        "**O valor médio de transação para os tipos de cartão top 5 está correlacionado com o limite de crédito?**\n",
        "\n",
        "**Query:** SELECT salario_anual, COUNT(*) AS num_customers\n",
        "FROM credito\n",
        "WHERE salario_anual != 'na'\n",
        "GROUP BY salario_anual\n",
        "ORDER BY num_customers DESC;\n",
        "\n",
        "![Valor salario_anual](https://github.com/marcosengdados/analysticofcredit/blob/main/f2.png?raw=true)\n",
        "![Valor salario_anual](https://github.com/marcosengdados/analysticofcredit/blob/main/grafico1.png?raw=true)\n",
        "\n",
        ">A análise da segmentação de clientes por salário anual fornece insights cruciais para o entendimento profundo da base de clientes e a elaboração de estratégias de negócio eficazes. Ao alinhar produtos, serviços e campanhas de marketing com as características e necessidades específicas de cada segmento salarial, a organização pode melhorar significativamente o engajamento do cliente, a retenção e a lucratividade geral.\n",
        "\n",
        ">O monitoramento contínuo e a adaptabilidade são essenciais para responder às mudanças do mercado e manter uma posição competitiva sólida."
      ],
      "metadata": {
        "id": "kZF4b9FalsIN"
      },
      "id": "kZF4b9FalsIN"
    },
    {
      "cell_type": "markdown",
      "id": "7bd2151a",
      "metadata": {
        "papermill": {
          "duration": 0.002826,
          "end_time": "2021-07-20T20:16:13.396381",
          "exception": false,
          "start_time": "2021-07-20T20:16:13.393555",
          "status": "completed"
        },
        "tags": [],
        "id": "7bd2151a"
      },
      "source": [
        "# **4. Conclusão**\n",
        "\n",
        "Essas foram **algumas** análises extraídas do dataset de crédito.  \n",
        "\n",
        "Alguns insights interessantes:\n",
        "\n",
        ">**Renda e Limite de Crédito:** A maior parte dos clientes possui uma renda anual de até 40K. Esta faixa salarial está fortemente correlacionada com limites de crédito mais baixos, evidenciando uma relação direta entre renda e limite concedido.\n",
        "\n",
        ">**Distribuição por Gênero:** A maioria dos clientes é do sexo masculino. Além disso, clientes com limites de crédito mais altos tendem a ser predominantemente homens, enquanto os menores limites são frequentemente atribuídos a mulheres.\n",
        "\n",
        ">**Influência da Escolaridade:** A escolaridade dos clientes não parece impactar significativamente o limite de crédito nem o tipo de cartão concedido. Isso sugere que outros fatores, como renda ou gênero, podem ser mais determinantes na concessão de crédito.\n",
        "\n",
        ">**Tipo de Cartão e Limite:** Entre os clientes com menores limites de crédito, não há registros de cartões platinum. Isso indica que cartões de categorias mais altas são associados a limites maiores, mas não aparecem em perfis de crédito mais baixos.\n",
        "\n",
        ">**Faixa Salarial e Limite de Crédito:** A faixa salarial tem um impacto direto no limite de crédito, com limites mais altos geralmente associados a rendas mais elevadas.\n",
        "\n",
        ">**Representação Feminina em Faixas Altas:** Não há clientes do sexo feminino com uma renda anual superior a 60K, o que pode sugerir uma necessidade de análise mais aprofundada para entender a distribuição de renda e suas implicações para a concessão de crédito.\n",
        "\n",
        ">**Desenvolvimento de Produtos Alinhados ao Segmento Predominante:**Criar produtos e serviços que atendam especificamente às necessidades e preferências dos clientes de renda média, garantindo competitividade e satisfação do cliente.\n",
        "\n",
        ">**Diversificação de Mercado:** Investir em estratégias para atrair e reter clientes nos segmentos de baixa e alta renda, diversificando a base de clientes e reduzindo a dependência de um único segmento.\n",
        "\n",
        ">**Marketing Segmentado e Personalizado:** Implementar campanhas de marketing direcionadas que considerem as características e comportamentos únicos de cada faixa salarial, aumentando a eficácia e o retorno sobre o investimento.\n",
        "\n",
        ">**Fortalecimento do Gerenciamento de Risco:** Refinar os processos de avaliação de crédito e gerenciamento de risco para equilibrar a expansão de mercado com a sustentabilidade financeira.\n",
        "\n",
        ">**Monitoramento Contínuo e Feedback:** Estabelecer sistemas de monitoramento contínuo da distribuição salarial e feedback dos clientes para ajustar estratégias de forma ágil e informada.\n"
      ]
    }
  ],
  "metadata": {
    "kernelspec": {
      "display_name": "Python 3",
      "language": "python",
      "name": "python3"
    },
    "language_info": {
      "codemirror_mode": {
        "name": "ipython",
        "version": 3
      },
      "file_extension": ".py",
      "mimetype": "text/x-python",
      "name": "python",
      "nbconvert_exporter": "python",
      "pygments_lexer": "ipython3",
      "version": "3.7.10"
    },
    "papermill": {
      "default_parameters": {},
      "duration": 9.822258,
      "end_time": "2021-07-20T20:16:14.798746",
      "environment_variables": {},
      "exception": null,
      "input_path": "__notebook__.ipynb",
      "output_path": "__notebook__.ipynb",
      "parameters": {},
      "start_time": "2021-07-20T20:16:04.976488",
      "version": "2.3.3"
    },
    "colab": {
      "provenance": []
    }
  },
  "nbformat": 4,
  "nbformat_minor": 5
}